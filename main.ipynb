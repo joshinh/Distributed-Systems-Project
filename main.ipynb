{
 "cells": [
  {
   "cell_type": "code",
   "execution_count": 1,
   "id": "5d51b055-cf74-4b81-a6b6-7bc10e2cec55",
   "metadata": {},
   "outputs": [],
   "source": [
    "import os\n",
    "os.environ['TRANSFORMERS_CACHE'] = '/scratch/nhj4247/python_cache/'"
   ]
  },
  {
   "cell_type": "code",
   "execution_count": 2,
   "id": "5728771c-8c42-45a3-be46-bb4b42996cca",
   "metadata": {},
   "outputs": [
    {
     "data": {
      "text/plain": [
       "[{'sequence': 'Send these pictures back!',\n",
       "  'score': 0.16661524772644043,\n",
       "  'token': 3493,\n",
       "  'token_str': ' pictures'},\n",
       " {'sequence': 'Send these photos back!',\n",
       "  'score': 0.10792797058820724,\n",
       "  'token': 2356,\n",
       "  'token_str': ' photos'},\n",
       " {'sequence': 'Send these emails back!',\n",
       "  'score': 0.0767090767621994,\n",
       "  'token': 5575,\n",
       "  'token_str': ' emails'},\n",
       " {'sequence': 'Send these images back!',\n",
       "  'score': 0.0486077181994915,\n",
       "  'token': 3156,\n",
       "  'token_str': ' images'},\n",
       " {'sequence': 'Send these letters back!',\n",
       "  'score': 0.04841756820678711,\n",
       "  'token': 5430,\n",
       "  'token_str': ' letters'}]"
      ]
     },
     "execution_count": 2,
     "metadata": {},
     "output_type": "execute_result"
    }
   ],
   "source": [
    "from transformers import pipeline\n",
    "\n",
    "fill_mask = pipeline(\n",
    "    \"fill-mask\",\n",
    "    model=\"roberta-base\",\n",
    "    tokenizer=\"roberta-base\"\n",
    ")\n",
    "fill_mask(\"Send these <mask> back!\")"
   ]
  },
  {
   "cell_type": "code",
   "execution_count": null,
   "id": "2db09f4b-f98d-4fb5-b866-8de29383d80d",
   "metadata": {},
   "outputs": [
    {
     "name": "stderr",
     "output_type": "stream",
     "text": [
      "***** Running training *****\n",
      "  Num examples = 8993\n",
      "  Num Epochs = 25\n",
      "  Instantaneous batch size per device = 48\n",
      "  Total train batch size (w. parallel, distributed & accumulation) = 48\n",
      "  Gradient Accumulation steps = 1\n",
      "  Total optimization steps = 4700\n"
     ]
    },
    {
     "data": {
      "text/html": [
       "\n",
       "    <div>\n",
       "      \n",
       "      <progress value='2125' max='4700' style='width:300px; height:20px; vertical-align: middle;'></progress>\n",
       "      [2125/4700 11:53 < 14:24, 2.98 it/s, Epoch 11.30/25]\n",
       "    </div>\n",
       "    <table border=\"1\" class=\"dataframe\">\n",
       "  <thead>\n",
       "    <tr style=\"text-align: left;\">\n",
       "      <th>Step</th>\n",
       "      <th>Training Loss</th>\n",
       "    </tr>\n",
       "  </thead>\n",
       "  <tbody>\n",
       "    <tr>\n",
       "      <td>500</td>\n",
       "      <td>2.340100</td>\n",
       "    </tr>\n",
       "    <tr>\n",
       "      <td>1000</td>\n",
       "      <td>2.087300</td>\n",
       "    </tr>\n",
       "    <tr>\n",
       "      <td>1500</td>\n",
       "      <td>1.940300</td>\n",
       "    </tr>\n",
       "    <tr>\n",
       "      <td>2000</td>\n",
       "      <td>1.836100</td>\n",
       "    </tr>\n",
       "  </tbody>\n",
       "</table><p>"
      ],
      "text/plain": [
       "<IPython.core.display.HTML object>"
      ]
     },
     "metadata": {},
     "output_type": "display_data"
    },
    {
     "name": "stderr",
     "output_type": "stream",
     "text": [
      "Saving model checkpoint to ./roberta-retrained/checkpoint-500\n",
      "Configuration saved in ./roberta-retrained/checkpoint-500/config.json\n",
      "Model weights saved in ./roberta-retrained/checkpoint-500/pytorch_model.bin\n",
      "Saving model checkpoint to ./roberta-retrained/checkpoint-1000\n",
      "Configuration saved in ./roberta-retrained/checkpoint-1000/config.json\n",
      "Model weights saved in ./roberta-retrained/checkpoint-1000/pytorch_model.bin\n",
      "Saving model checkpoint to ./roberta-retrained/checkpoint-1500\n",
      "Configuration saved in ./roberta-retrained/checkpoint-1500/config.json\n",
      "Model weights saved in ./roberta-retrained/checkpoint-1500/pytorch_model.bin\n",
      "Deleting older checkpoint [roberta-retrained/checkpoint-500] due to args.save_total_limit\n",
      "Saving model checkpoint to ./roberta-retrained/checkpoint-2000\n",
      "Configuration saved in ./roberta-retrained/checkpoint-2000/config.json\n",
      "Model weights saved in ./roberta-retrained/checkpoint-2000/pytorch_model.bin\n",
      "Deleting older checkpoint [roberta-retrained/checkpoint-1000] due to args.save_total_limit\n"
     ]
    }
   ],
   "source": [
    "## Out-of-the box model training\n",
    "\n",
    "from transformers import RobertaTokenizer, RobertaForMaskedLM\n",
    "from transformers import LineByLineTextDataset\n",
    "from transformers import DataCollatorForLanguageModeling\n",
    "from transformers import Trainer, TrainingArguments\n",
    "\n",
    "tokenizer = RobertaTokenizer.from_pretrained('roberta-base')\n",
    "model = RobertaForMaskedLM.from_pretrained('roberta-base')\n",
    "\n",
    "dataset = LineByLineTextDataset(\n",
    "    tokenizer=tokenizer,\n",
    "    file_path=\"/scratch/nhj4247/data/tweeteval/datasets/hate/train_text.txt\",\n",
    "    block_size=512,\n",
    ")\n",
    "\n",
    "data_collator = DataCollatorForLanguageModeling(\n",
    "    tokenizer=tokenizer, mlm=True, mlm_probability=0.15\n",
    ")\n",
    "\n",
    "training_args = TrainingArguments(\n",
    "    output_dir=\"./roberta-retrained\",\n",
    "    overwrite_output_dir=True,\n",
    "    num_train_epochs=25,\n",
    "    per_device_train_batch_size=48,\n",
    "    save_steps=500,\n",
    "    save_total_limit=2,\n",
    "    seed=1\n",
    ")\n",
    "\n",
    "trainer = Trainer(\n",
    "    model=model,\n",
    "    args=training_args,\n",
    "    data_collator=data_collator,\n",
    "    train_dataset=dataset\n",
    ")\n",
    "\n",
    "trainer.train()\n",
    "\n",
    "trainer.save_model(\"./roberta-retrained\")\n",
    "\n"
   ]
  },
  {
   "cell_type": "code",
   "execution_count": 20,
   "id": "f7678808-d5aa-4787-8570-28461387d0ed",
   "metadata": {},
   "outputs": [
    {
     "name": "stdout",
     "output_type": "stream",
     "text": [
      "***** Running training *****\n",
      "  Num examples = 8993\n",
      "  Num Epochs = 20\n",
      "  Instantaneous batch size per GPU = 48\n",
      "  Total optimization steps = 3760\n"
     ]
    },
    {
     "name": "stderr",
     "output_type": "stream",
     "text": [
      "Iteration: 100%|██████████| 188/188 [01:02<00:00,  3.03it/s]\n",
      "Iteration: 100%|██████████| 188/188 [01:02<00:00,  3.00it/s]\n",
      "Evaluating: 100%|██████████| 125/125 [00:02<00:00, 49.07it/s]\n",
      "Iteration:  66%|██████▌   | 124/188 [00:45<01:27,  1.37s/it]"
     ]
    },
    {
     "name": "stdout",
     "output_type": "stream",
     "text": [
      "Eval loss at 500 is 271.78\n"
     ]
    },
    {
     "name": "stderr",
     "output_type": "stream",
     "text": [
      "Iteration: 100%|██████████| 188/188 [01:06<00:00,  2.82it/s]\n",
      "Iteration: 100%|██████████| 188/188 [01:03<00:00,  2.97it/s]\n",
      "Iteration: 100%|██████████| 188/188 [01:02<00:00,  2.99it/s]\n",
      "Evaluating: 100%|██████████| 125/125 [00:02<00:00, 49.15it/s]\n",
      "Iteration:  32%|███▏      | 60/188 [00:23<02:55,  1.37s/it]"
     ]
    },
    {
     "name": "stdout",
     "output_type": "stream",
     "text": [
      "Eval loss at 1000 is 257.74\n"
     ]
    },
    {
     "name": "stderr",
     "output_type": "stream",
     "text": [
      "Iteration: 100%|██████████| 188/188 [01:06<00:00,  2.82it/s]\n",
      "Iteration: 100%|██████████| 188/188 [01:03<00:00,  2.97it/s]\n",
      "Evaluating: 100%|██████████| 125/125 [00:02<00:00, 49.00it/s]\n",
      "Iteration:  98%|█████████▊| 184/188 [01:05<00:05,  1.39s/it]"
     ]
    },
    {
     "name": "stdout",
     "output_type": "stream",
     "text": [
      "Eval loss at 1500 is 274.02\n"
     ]
    },
    {
     "name": "stderr",
     "output_type": "stream",
     "text": [
      "Iteration: 100%|██████████| 188/188 [01:06<00:00,  2.83it/s]\n",
      "Iteration: 100%|██████████| 188/188 [01:03<00:00,  2.98it/s]\n",
      "Iteration: 100%|██████████| 188/188 [01:03<00:00,  2.98it/s]\n",
      "Evaluating: 100%|██████████| 125/125 [00:02<00:00, 48.70it/s]\n",
      "Iteration:  64%|██████▍   | 120/188 [00:43<01:34,  1.39s/it]"
     ]
    },
    {
     "name": "stdout",
     "output_type": "stream",
     "text": [
      "Eval loss at 2000 is 263.11\n"
     ]
    },
    {
     "name": "stderr",
     "output_type": "stream",
     "text": [
      "Iteration: 100%|██████████| 188/188 [01:06<00:00,  2.83it/s]\n",
      "Iteration: 100%|██████████| 188/188 [01:02<00:00,  2.99it/s]\n",
      "Iteration: 100%|██████████| 188/188 [01:03<00:00,  2.98it/s]\n",
      "Evaluating: 100%|██████████| 125/125 [00:02<00:00, 48.68it/s]\n",
      "Iteration:  30%|██▉       | 56/188 [00:22<03:00,  1.37s/it]"
     ]
    },
    {
     "name": "stdout",
     "output_type": "stream",
     "text": [
      "Eval loss at 2500 is 263.85\n"
     ]
    },
    {
     "name": "stderr",
     "output_type": "stream",
     "text": [
      "Iteration: 100%|██████████| 188/188 [01:06<00:00,  2.82it/s]\n",
      "Iteration: 100%|██████████| 188/188 [01:02<00:00,  2.99it/s]\n",
      "Evaluating: 100%|██████████| 125/125 [00:02<00:00, 48.98it/s]\n",
      "Iteration:  96%|█████████▌| 180/188 [01:03<00:11,  1.40s/it]"
     ]
    },
    {
     "name": "stdout",
     "output_type": "stream",
     "text": [
      "Eval loss at 3000 is 255.08\n"
     ]
    },
    {
     "name": "stderr",
     "output_type": "stream",
     "text": [
      "Iteration: 100%|██████████| 188/188 [01:05<00:00,  2.86it/s]\n",
      "Iteration: 100%|██████████| 188/188 [01:03<00:00,  2.98it/s]\n",
      "Iteration: 100%|██████████| 188/188 [01:03<00:00,  2.97it/s]\n",
      "Evaluating: 100%|██████████| 125/125 [00:02<00:00, 49.06it/s]\n",
      "Iteration:  62%|██████▏   | 116/188 [00:42<01:41,  1.41s/it]"
     ]
    },
    {
     "name": "stdout",
     "output_type": "stream",
     "text": [
      "Eval loss at 3500 is 261.31\n"
     ]
    },
    {
     "name": "stderr",
     "output_type": "stream",
     "text": [
      "Iteration: 100%|██████████| 188/188 [01:06<00:00,  2.82it/s]\n",
      "Iteration: 100%|██████████| 188/188 [01:03<00:00,  2.98it/s]\n",
      "Epoch: 100%|██████████| 20/20 [21:24<00:00, 64.20s/it]\n"
     ]
    }
   ],
   "source": [
    "## Custom model training\n",
    "\n",
    "from transformers import RobertaTokenizer, RobertaForMaskedLM\n",
    "from transformers import LineByLineTextDataset\n",
    "from transformers import DataCollatorForLanguageModeling\n",
    "from transformers import Trainer, TrainingArguments\n",
    "from transformers import AdamW, get_linear_schedule_with_warmup\n",
    "from tqdm import trange, tqdm\n",
    "from torch.utils.data import RandomSampler, DataLoader, SequentialSampler\n",
    "import torch\n",
    "import os\n",
    "\n",
    "device = torch.device(\"cuda\" if torch.cuda.is_available() and not args.no_cuda else \"cpu\")\n",
    "\n",
    "tokenizer = RobertaTokenizer.from_pretrained('roberta-base')\n",
    "model = RobertaForMaskedLM.from_pretrained('roberta-base')\n",
    "\n",
    "train_dataset = LineByLineTextDataset(\n",
    "    tokenizer=tokenizer,\n",
    "    file_path=\"/scratch/nhj4247/data/tweeteval/datasets/hate/train_text.txt\",\n",
    "    block_size=512,\n",
    ")\n",
    "\n",
    "eval_dataset = LineByLineTextDataset(\n",
    "    tokenizer=tokenizer,\n",
    "    file_path=\"/scratch/nhj4247/data/tweeteval/datasets/hate/val_text.txt\",\n",
    "    block_size=512,\n",
    ")\n",
    "\n",
    "data_collator = DataCollatorForLanguageModeling(\n",
    "    tokenizer=tokenizer, mlm=True, mlm_probability=0.15\n",
    ")\n",
    "\n",
    "args = TrainingArguments(\n",
    "    output_dir=\"./mlm_roberta_tweeteval\",\n",
    "    overwrite_output_dir=True,\n",
    "    num_train_epochs=20,\n",
    "    per_device_train_batch_size=48,\n",
    "    save_steps=500,\n",
    "    save_total_limit=2,\n",
    "    seed=1,\n",
    "    eval_steps=500\n",
    ")\n",
    "\n",
    "# trainer = Trainer(\n",
    "#     model=model,\n",
    "#     args=args,\n",
    "#     data_collator=data_collator,\n",
    "#     train_dataset=dataset\n",
    "# )\n",
    "\n",
    "\n",
    "def evaluate(args, model, eval_dataset):\n",
    "    \n",
    "    eval_dataloader = DataLoader(eval_dataset,\n",
    "                                 batch_size=args.per_device_eval_batch_size,\n",
    "                                 sampler=SequentialSampler(eval_dataset),\n",
    "                                 collate_fn=data_collator)\n",
    "    eval_iterator = tqdm(eval_dataloader, desc=\"Evaluating\", position=0, leave=True)\n",
    "    eval_loss = 0\n",
    "    for _, batch in enumerate(eval_iterator):\n",
    "        batch.to(device)\n",
    "        model.eval()\n",
    "        outputs = model(**batch)\n",
    "        eval_loss += outputs['loss'].item()\n",
    "        \n",
    "    return eval_loss\n",
    "\n",
    "\n",
    "## Training loop\n",
    "\n",
    "train_sampler = RandomSampler(train_dataset)\n",
    "train_dataloader = DataLoader(train_dataset,\n",
    "                              batch_size=args.per_device_train_batch_size,\n",
    "                              sampler=train_sampler,\n",
    "                              collate_fn=data_collator)\n",
    "t_total = len(train_dataloader) * args.num_train_epochs\n",
    "\n",
    "no_decay = ['bias', 'LayerNorm.weight']\n",
    "optimizer_grouped_parameters = [\n",
    "        {'params': [p for n, p in model.named_parameters() if not any(nd in n for nd in no_decay)], 'weight_decay': args.weight_decay},\n",
    "        {'params': [p for n, p in model.named_parameters() if any(nd in n for nd in no_decay)], 'weight_decay': 0.0}\n",
    "        ]\n",
    "optimizer = AdamW(optimizer_grouped_parameters, lr=args.learning_rate, eps=args.adam_epsilon)\n",
    "scheduler = get_linear_schedule_with_warmup(optimizer, num_warmup_steps=args.warmup_steps, num_training_steps=t_total)\n",
    "\n",
    "\n",
    "print(\"***** Running training *****\")\n",
    "print(\"  Num examples = %d\" %len(train_dataset))\n",
    "print(\"  Num Epochs = %d\" %args.num_train_epochs)\n",
    "print(\"  Instantaneous batch size per GPU = %d\" %args.per_device_train_batch_size)\n",
    "print(\"  Total optimization steps = %d\" %t_total)\n",
    "\n",
    "train_iterator = trange(int(args.num_train_epochs), desc=\"Epoch\")\n",
    "global_step = 0\n",
    "model.to(device)\n",
    "\n",
    "for epoch in train_iterator:\n",
    "    epoch_iterator = tqdm(train_dataloader, desc=\"Iteration\", position=0, leave=True)\n",
    "    for step, batch in enumerate(epoch_iterator):\n",
    "        batch.to(device)\n",
    "        model.train()\n",
    "        outputs = model(**batch)\n",
    "        loss = outputs['loss']\n",
    "        \n",
    "        loss.backward()\n",
    "        torch.nn.utils.clip_grad_norm_(model.parameters(), args.max_grad_norm)\n",
    "        optimizer.step()\n",
    "        scheduler.step()\n",
    "        model.zero_grad()\n",
    "        global_step += 1\n",
    "        \n",
    "        if global_step % args.save_steps == 0:\n",
    "            output_dir = os.path.join(args.output_dir, 'checkpoint-{}'.format(global_step))\n",
    "            if not os.path.exists(output_dir):\n",
    "                os.makedirs(output_dir)\n",
    "                model.save_pretrained(output_dir)\n",
    "                torch.save(args, os.path.join(output_dir, 'training_args.bin'))\n",
    "                \n",
    "        if global_step % args.eval_steps == 0:\n",
    "            eval_loss = evaluate(args, model, eval_dataset)\n",
    "            print(\"Eval loss at %d is %.2f\" %(global_step, eval_loss))\n",
    "            \n",
    "            \n",
    "\n",
    "                                 \n",
    "\n"
   ]
  },
  {
   "cell_type": "code",
   "execution_count": null,
   "id": "d1f6722d-d208-4549-9cdf-0af3933b2f12",
   "metadata": {},
   "outputs": [],
   "source": []
  }
 ],
 "metadata": {
  "kernelspec": {
   "display_name": "Python 3",
   "language": "python",
   "name": "python3"
  },
  "language_info": {
   "codemirror_mode": {
    "name": "ipython",
    "version": 3
   },
   "file_extension": ".py",
   "mimetype": "text/x-python",
   "name": "python",
   "nbconvert_exporter": "python",
   "pygments_lexer": "ipython3",
   "version": "3.6.13"
  }
 },
 "nbformat": 4,
 "nbformat_minor": 5
}
